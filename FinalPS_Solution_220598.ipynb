{
 "cells": [
  {
   "cell_type": "code",
   "execution_count": 1,
   "id": "28f81315-7ced-4a03-aab1-0ed11a147701",
   "metadata": {
    "tags": []
   },
   "outputs": [],
   "source": [
    "import numpy as np\n",
    "import pandas as pd"
   ]
  },
  {
   "cell_type": "code",
   "execution_count": 2,
   "id": "75d53247-3253-45f3-9215-e611f56de582",
   "metadata": {
    "tags": []
   },
   "outputs": [],
   "source": [
    "import pickle\n",
    "\n",
    "with open(\"train_qa.txt\", \"rb\") as fp:   \n",
    "    train_data =  pickle.load(fp)\n",
    "\n",
    "with open(\"test_qa.txt\", \"rb\") as fp:   \n",
    "    test_data =  pickle.load(fp)"
   ]
  },
  {
   "cell_type": "markdown",
   "id": "3f0cceab-13aa-46a0-9777-f9186bce16d5",
   "metadata": {
    "tags": []
   },
   "source": [
    "# Creating a Dictionary of words\n",
    "This Dictionary will be used in training the model"
   ]
  },
  {
   "cell_type": "code",
   "execution_count": 3,
   "id": "a35be288-374d-4376-a918-27b4756fbd14",
   "metadata": {
    "tags": []
   },
   "outputs": [],
   "source": [
    "words = set()\n",
    "all_data = train_data + test_data"
   ]
  },
  {
   "cell_type": "code",
   "execution_count": 4,
   "id": "2d344f44-8eab-49d0-b12d-9b545da34dd1",
   "metadata": {
    "tags": []
   },
   "outputs": [],
   "source": [
    "for i, j, k in all_data:\n",
    "    words = words.union(set(i))\n",
    "    words = words.union(set(j))\n",
    "    \n",
    "words.add('yes')\n",
    "words.add('no')"
   ]
  },
  {
   "cell_type": "code",
   "execution_count": 6,
   "id": "d3517b46-dffc-49c7-9b57-ee81a103a976",
   "metadata": {
    "tags": []
   },
   "outputs": [
    {
     "data": {
      "text/plain": [
       "{'.',\n",
       " '?',\n",
       " 'Daniel',\n",
       " 'Is',\n",
       " 'John',\n",
       " 'Mary',\n",
       " 'Sandra',\n",
       " 'apple',\n",
       " 'back',\n",
       " 'bathroom',\n",
       " 'bedroom',\n",
       " 'discarded',\n",
       " 'down',\n",
       " 'dropped',\n",
       " 'football',\n",
       " 'garden',\n",
       " 'got',\n",
       " 'grabbed',\n",
       " 'hallway',\n",
       " 'in',\n",
       " 'journeyed',\n",
       " 'kitchen',\n",
       " 'left',\n",
       " 'milk',\n",
       " 'moved',\n",
       " 'no',\n",
       " 'office',\n",
       " 'picked',\n",
       " 'put',\n",
       " 'the',\n",
       " 'there',\n",
       " 'to',\n",
       " 'took',\n",
       " 'travelled',\n",
       " 'up',\n",
       " 'went',\n",
       " 'yes'}"
      ]
     },
     "execution_count": 6,
     "metadata": {},
     "output_type": "execute_result"
    }
   ],
   "source": [
    "words"
   ]
  },
  {
   "cell_type": "code",
   "execution_count": 7,
   "id": "d5b76a9b-939b-4bf5-8eb5-c918c0295a56",
   "metadata": {
    "tags": []
   },
   "outputs": [],
   "source": [
    "words_len = len(words) + 1 # Adding 1 space extra for pad_sequences - Reserving 0 "
   ]
  },
  {
   "cell_type": "markdown",
   "id": "7d095e7c-dbf4-41fc-baa3-26b63e25cc29",
   "metadata": {},
   "source": [
    "# Creating a Function for Vectorizing the Data"
   ]
  },
  {
   "cell_type": "code",
   "execution_count": 9,
   "id": "02d75fec-85d6-48b7-a938-69230cdf0959",
   "metadata": {
    "tags": []
   },
   "outputs": [],
   "source": [
    "import tensorflow\n",
    "from tensorflow.keras.preprocessing.sequence import pad_sequences\n",
    "from keras.preprocessing.text import Tokenizer\n",
    "\n",
    "tokenizer = Tokenizer(filters = [])\n",
    "tokenizer.fit_on_texts(words)"
   ]
  },
  {
   "cell_type": "code",
   "execution_count": 10,
   "id": "75264f78-aba3-4fb2-b6f1-34a85d3c23bf",
   "metadata": {
    "tags": []
   },
   "outputs": [],
   "source": [
    "max_story_len = max([len(data[0]) for data in all_data])\n",
    "max_query_len = max([len(data[1]) for data in all_data])"
   ]
  },
  {
   "cell_type": "code",
   "execution_count": 11,
   "id": "46a514f3-be86-413b-8af4-1de37446b48c",
   "metadata": {
    "tags": []
   },
   "outputs": [],
   "source": [
    "def vectorize_data(data, word_index=tokenizer.word_index, max_story_len=max_story_len,max_query_len=max_query_len):\n",
    "    X = []\n",
    "    Q = []\n",
    "    A = []\n",
    "    \n",
    "    \n",
    "    for story, query, answer in data:\n",
    "        \n",
    "        x = [word_index[word.lower()] for word in story]\n",
    "        q = [word_index[word.lower()] for word in query]\n",
    "        a = np.zeros(len(word_index) + 1)\n",
    "\n",
    "        a[word_index[answer]] = 1\n",
    "        \n",
    "        X.append(x)\n",
    "        Q.append(q)\n",
    "        A.append(a)\n",
    "        \n",
    "    return (pad_sequences(X, maxlen=max_story_len),pad_sequences(Q, maxlen=max_query_len), np.array(A))"
   ]
  },
  {
   "cell_type": "code",
   "execution_count": 12,
   "id": "1e9adb32-3fe4-4029-8574-223b15d681a8",
   "metadata": {
    "tags": []
   },
   "outputs": [],
   "source": [
    "train_input, train_query, train_answer = vectorize_data(train_data)\n",
    "test_input, test_query, test_answer = vectorize_data(test_data)"
   ]
  },
  {
   "cell_type": "markdown",
   "id": "e166e656-54bc-4df8-843b-4723ba2d81b2",
   "metadata": {},
   "source": [
    "# Building the Neural Network"
   ]
  },
  {
   "cell_type": "code",
   "execution_count": 13,
   "id": "f845b963-86dc-4c4a-857d-d03f40ad94a3",
   "metadata": {
    "tags": []
   },
   "outputs": [],
   "source": [
    "from tensorflow.keras.models import Sequential, Model\n",
    "from tensorflow.keras.layers import Embedding, Input, Activation, Dropout\n",
    "from tensorflow.keras.layers import add, dot, concatenate, Permute, Dense\n",
    "from tensorflow.keras.layers import LSTM"
   ]
  },
  {
   "cell_type": "code",
   "execution_count": 15,
   "id": "cb8ba06e-db10-4410-8dae-04f2677fa217",
   "metadata": {
    "tags": []
   },
   "outputs": [],
   "source": [
    "input_sequence = Input(shape = (max_story_len,),)\n",
    "input_query = Input(shape = (max_query_len,),)"
   ]
  },
  {
   "cell_type": "code",
   "execution_count": 16,
   "id": "b40e8830-12fb-4a75-bd2f-497ee1a72a27",
   "metadata": {
    "tags": []
   },
   "outputs": [],
   "source": [
    "input_encoder_memory = Sequential()\n",
    "input_encoder_memory.add(Embedding(input_dim = words_len, output_dim = 64))\n",
    "input_encoder_memory.add(Dropout(0.3))\n",
    "\n",
    "input_encoder_continuous = Sequential()\n",
    "input_encoder_continuous.add(Embedding(input_dim = words_len, output_dim = max_query_len))\n",
    "input_encoder_continuous.add(Dropout(0.3))\n",
    "\n",
    "question_encoder = Sequential()\n",
    "question_encoder.add(Embedding(input_dim = words_len, output_dim = 64, input_length = max_query_len))\n",
    "question_encoder.add(Dropout(0.3))"
   ]
  },
  {
   "cell_type": "code",
   "execution_count": 17,
   "id": "94826d8d-f97d-4525-a18a-1d4850f6d49c",
   "metadata": {
    "tags": []
   },
   "outputs": [],
   "source": [
    "input_encoded_memory = input_encoder_memory(input_sequence)\n",
    "input_encoded_continuous = input_encoder_continuous(input_sequence)\n",
    "question_encoded = question_encoder(input_query)"
   ]
  },
  {
   "cell_type": "code",
   "execution_count": 18,
   "id": "f751d217-0496-46e4-9610-5eb6c7fd51de",
   "metadata": {
    "tags": []
   },
   "outputs": [],
   "source": [
    "match = dot([input_encoded_memory, question_encoded], axes = (2,2))\n",
    "match = Activation('softmax')(match)\n",
    "\n",
    "response = add([match, input_encoded_continuous])\n",
    "response = Permute((2,1))(response)\n",
    "\n",
    "answer = concatenate([response, question_encoded])"
   ]
  },
  {
   "cell_type": "code",
   "execution_count": 19,
   "id": "3cf85ace-ebd4-4264-8c34-f2b1ada44a28",
   "metadata": {
    "tags": []
   },
   "outputs": [],
   "source": [
    "answer = LSTM(32)(answer)\n",
    "answer = Dropout(0.5)(answer)\n",
    "answer = Dense(words_len)(answer)\n",
    "answer = Activation('softmax')(answer)"
   ]
  },
  {
   "cell_type": "code",
   "execution_count": 21,
   "id": "d810e078-a833-49f4-b3ca-86bd92ebc59a",
   "metadata": {
    "tags": []
   },
   "outputs": [],
   "source": [
    "model = Model([input_sequence, input_query], answer)\n",
    "model.compile(optimizer='rmsprop', loss='categorical_crossentropy', metrics=['accuracy'])"
   ]
  },
  {
   "cell_type": "code",
   "execution_count": 22,
   "id": "4de0bf44-901e-40ed-ad95-1b8c0f2e9d4a",
   "metadata": {
    "tags": []
   },
   "outputs": [
    {
     "name": "stdout",
     "output_type": "stream",
     "text": [
      "Model: \"model_1\"\n",
      "__________________________________________________________________________________________________\n",
      " Layer (type)                Output Shape                 Param #   Connected to                  \n",
      "==================================================================================================\n",
      " input_3 (InputLayer)        [(None, 156)]                0         []                            \n",
      "                                                                                                  \n",
      " input_4 (InputLayer)        [(None, 6)]                  0         []                            \n",
      "                                                                                                  \n",
      " sequential (Sequential)     (None, None, 64)             2432      ['input_3[0][0]']             \n",
      "                                                                                                  \n",
      " sequential_2 (Sequential)   (None, 6, 64)                2432      ['input_4[0][0]']             \n",
      "                                                                                                  \n",
      " dot (Dot)                   (None, 156, 6)               0         ['sequential[0][0]',          \n",
      "                                                                     'sequential_2[0][0]']        \n",
      "                                                                                                  \n",
      " activation (Activation)     (None, 156, 6)               0         ['dot[0][0]']                 \n",
      "                                                                                                  \n",
      " sequential_1 (Sequential)   (None, None, 6)              228       ['input_3[0][0]']             \n",
      "                                                                                                  \n",
      " add (Add)                   (None, 156, 6)               0         ['activation[0][0]',          \n",
      "                                                                     'sequential_1[0][0]']        \n",
      "                                                                                                  \n",
      " permute (Permute)           (None, 6, 156)               0         ['add[0][0]']                 \n",
      "                                                                                                  \n",
      " concatenate (Concatenate)   (None, 6, 220)               0         ['permute[0][0]',             \n",
      "                                                                     'sequential_2[0][0]']        \n",
      "                                                                                                  \n",
      " lstm (LSTM)                 (None, 32)                   32384     ['concatenate[0][0]']         \n",
      "                                                                                                  \n",
      " dropout_3 (Dropout)         (None, 32)                   0         ['lstm[0][0]']                \n",
      "                                                                                                  \n",
      " dense (Dense)               (None, 38)                   1254      ['dropout_3[0][0]']           \n",
      "                                                                                                  \n",
      " activation_1 (Activation)   (None, 38)                   0         ['dense[0][0]']               \n",
      "                                                                                                  \n",
      "==================================================================================================\n",
      "Total params: 38730 (151.29 KB)\n",
      "Trainable params: 38730 (151.29 KB)\n",
      "Non-trainable params: 0 (0.00 Byte)\n",
      "__________________________________________________________________________________________________\n"
     ]
    }
   ],
   "source": [
    "model.summary()"
   ]
  },
  {
   "cell_type": "code",
   "execution_count": 23,
   "id": "faa207a2-63fb-408f-a62e-a267d8cf8e1c",
   "metadata": {},
   "outputs": [
    {
     "name": "stdout",
     "output_type": "stream",
     "text": [
      "Epoch 1/150\n",
      "WARNING:tensorflow:From C:\\Users\\DELL\\AppData\\Local\\Programs\\Python\\Python311\\Lib\\site-packages\\keras\\src\\utils\\tf_utils.py:492: The name tf.ragged.RaggedTensorValue is deprecated. Please use tf.compat.v1.ragged.RaggedTensorValue instead.\n",
      "\n",
      "WARNING:tensorflow:From C:\\Users\\DELL\\AppData\\Local\\Programs\\Python\\Python311\\Lib\\site-packages\\keras\\src\\engine\\base_layer_utils.py:384: The name tf.executing_eagerly_outside_functions is deprecated. Please use tf.compat.v1.executing_eagerly_outside_functions instead.\n",
      "\n",
      "313/313 [==============================] - 27s 33ms/step - loss: 0.8483 - accuracy: 0.5018 - val_loss: 0.6954 - val_accuracy: 0.5030\n",
      "Epoch 2/150\n",
      "313/313 [==============================] - 7s 23ms/step - loss: 0.7027 - accuracy: 0.5010 - val_loss: 0.6934 - val_accuracy: 0.5030\n",
      "Epoch 3/150\n",
      "313/313 [==============================] - 7s 22ms/step - loss: 0.6973 - accuracy: 0.4966 - val_loss: 0.6957 - val_accuracy: 0.5030\n",
      "Epoch 4/150\n",
      "313/313 [==============================] - 7s 23ms/step - loss: 0.6963 - accuracy: 0.4961 - val_loss: 0.6979 - val_accuracy: 0.4970\n",
      "Epoch 5/150\n",
      "313/313 [==============================] - 7s 23ms/step - loss: 0.6957 - accuracy: 0.5047 - val_loss: 0.6964 - val_accuracy: 0.4970\n",
      "Epoch 6/150\n",
      "313/313 [==============================] - 7s 23ms/step - loss: 0.6954 - accuracy: 0.5009 - val_loss: 0.6933 - val_accuracy: 0.4970\n",
      "Epoch 7/150\n",
      "313/313 [==============================] - 7s 23ms/step - loss: 0.6954 - accuracy: 0.5012 - val_loss: 0.6933 - val_accuracy: 0.5030\n",
      "Epoch 8/150\n",
      "313/313 [==============================] - 7s 23ms/step - loss: 0.6953 - accuracy: 0.4989 - val_loss: 0.6945 - val_accuracy: 0.4970\n",
      "Epoch 9/150\n",
      "313/313 [==============================] - 7s 23ms/step - loss: 0.6955 - accuracy: 0.4979 - val_loss: 0.6960 - val_accuracy: 0.4970\n",
      "Epoch 10/150\n",
      "313/313 [==============================] - 7s 23ms/step - loss: 0.6957 - accuracy: 0.4922 - val_loss: 0.6932 - val_accuracy: 0.4970\n",
      "Epoch 11/150\n",
      "313/313 [==============================] - 7s 23ms/step - loss: 0.6954 - accuracy: 0.4962 - val_loss: 0.6955 - val_accuracy: 0.4970\n",
      "Epoch 12/150\n",
      "313/313 [==============================] - 7s 23ms/step - loss: 0.6955 - accuracy: 0.4969 - val_loss: 0.6937 - val_accuracy: 0.4970\n",
      "Epoch 13/150\n",
      "313/313 [==============================] - 7s 24ms/step - loss: 0.6952 - accuracy: 0.5055 - val_loss: 0.6950 - val_accuracy: 0.4970\n",
      "Epoch 14/150\n",
      "313/313 [==============================] - 7s 23ms/step - loss: 0.6949 - accuracy: 0.5043 - val_loss: 0.6936 - val_accuracy: 0.4970\n",
      "Epoch 15/150\n",
      "313/313 [==============================] - 7s 24ms/step - loss: 0.6944 - accuracy: 0.5049 - val_loss: 0.6944 - val_accuracy: 0.5030\n",
      "Epoch 16/150\n",
      "313/313 [==============================] - 7s 23ms/step - loss: 0.6951 - accuracy: 0.4999 - val_loss: 0.6971 - val_accuracy: 0.5030\n",
      "Epoch 17/150\n",
      "313/313 [==============================] - 7s 23ms/step - loss: 0.6949 - accuracy: 0.5024 - val_loss: 0.6941 - val_accuracy: 0.5030\n",
      "Epoch 18/150\n",
      "313/313 [==============================] - 7s 23ms/step - loss: 0.6955 - accuracy: 0.4947 - val_loss: 0.6932 - val_accuracy: 0.4970\n",
      "Epoch 19/150\n",
      "313/313 [==============================] - 7s 24ms/step - loss: 0.6949 - accuracy: 0.5020 - val_loss: 0.6932 - val_accuracy: 0.4970\n",
      "Epoch 20/150\n",
      "313/313 [==============================] - 7s 23ms/step - loss: 0.6949 - accuracy: 0.4948 - val_loss: 0.6933 - val_accuracy: 0.4970\n",
      "Epoch 21/150\n",
      "313/313 [==============================] - 7s 24ms/step - loss: 0.6950 - accuracy: 0.4970 - val_loss: 0.6931 - val_accuracy: 0.5030\n",
      "Epoch 22/150\n",
      "313/313 [==============================] - 7s 23ms/step - loss: 0.6951 - accuracy: 0.5012 - val_loss: 0.6931 - val_accuracy: 0.5030\n",
      "Epoch 23/150\n",
      "313/313 [==============================] - 7s 22ms/step - loss: 0.6949 - accuracy: 0.4974 - val_loss: 0.6932 - val_accuracy: 0.4970\n",
      "Epoch 24/150\n",
      "313/313 [==============================] - 7s 23ms/step - loss: 0.6948 - accuracy: 0.5008 - val_loss: 0.6935 - val_accuracy: 0.5030\n",
      "Epoch 25/150\n",
      "313/313 [==============================] - 7s 23ms/step - loss: 0.6951 - accuracy: 0.4958 - val_loss: 0.6944 - val_accuracy: 0.4970\n",
      "Epoch 26/150\n",
      "313/313 [==============================] - 7s 23ms/step - loss: 0.6947 - accuracy: 0.5024 - val_loss: 0.6933 - val_accuracy: 0.4970\n",
      "Epoch 27/150\n",
      "313/313 [==============================] - 7s 22ms/step - loss: 0.6951 - accuracy: 0.4972 - val_loss: 0.6931 - val_accuracy: 0.5030\n",
      "Epoch 28/150\n",
      "313/313 [==============================] - 7s 21ms/step - loss: 0.6946 - accuracy: 0.4992 - val_loss: 0.6944 - val_accuracy: 0.5030\n",
      "Epoch 29/150\n",
      "313/313 [==============================] - 7s 21ms/step - loss: 0.6952 - accuracy: 0.4996 - val_loss: 0.6935 - val_accuracy: 0.5030\n",
      "Epoch 30/150\n",
      "313/313 [==============================] - 7s 23ms/step - loss: 0.6944 - accuracy: 0.5047 - val_loss: 0.6954 - val_accuracy: 0.4970\n",
      "Epoch 31/150\n",
      "313/313 [==============================] - 7s 22ms/step - loss: 0.6951 - accuracy: 0.5037 - val_loss: 0.6968 - val_accuracy: 0.5030\n",
      "Epoch 32/150\n",
      "313/313 [==============================] - 7s 24ms/step - loss: 0.6954 - accuracy: 0.4992 - val_loss: 0.6949 - val_accuracy: 0.4970\n",
      "Epoch 33/150\n",
      "313/313 [==============================] - 7s 23ms/step - loss: 0.6949 - accuracy: 0.4994 - val_loss: 0.6937 - val_accuracy: 0.4970\n",
      "Epoch 34/150\n",
      "313/313 [==============================] - 7s 23ms/step - loss: 0.6947 - accuracy: 0.5061 - val_loss: 0.6931 - val_accuracy: 0.5030\n",
      "Epoch 35/150\n",
      "313/313 [==============================] - 7s 23ms/step - loss: 0.6950 - accuracy: 0.5015 - val_loss: 0.6932 - val_accuracy: 0.5030\n",
      "Epoch 36/150\n",
      "313/313 [==============================] - 7s 23ms/step - loss: 0.6951 - accuracy: 0.4986 - val_loss: 0.6938 - val_accuracy: 0.4970\n",
      "Epoch 37/150\n",
      "313/313 [==============================] - 7s 24ms/step - loss: 0.6950 - accuracy: 0.5014 - val_loss: 0.6958 - val_accuracy: 0.4970\n",
      "Epoch 38/150\n",
      "313/313 [==============================] - 7s 23ms/step - loss: 0.6943 - accuracy: 0.5118 - val_loss: 0.6954 - val_accuracy: 0.5030\n",
      "Epoch 39/150\n",
      "313/313 [==============================] - 7s 23ms/step - loss: 0.6940 - accuracy: 0.5103 - val_loss: 0.6975 - val_accuracy: 0.4970\n",
      "Epoch 40/150\n",
      "313/313 [==============================] - 7s 22ms/step - loss: 0.6945 - accuracy: 0.5057 - val_loss: 0.6932 - val_accuracy: 0.5030\n",
      "Epoch 41/150\n",
      "313/313 [==============================] - 7s 23ms/step - loss: 0.6952 - accuracy: 0.4984 - val_loss: 0.6936 - val_accuracy: 0.4970\n",
      "Epoch 42/150\n",
      "313/313 [==============================] - 7s 23ms/step - loss: 0.6945 - accuracy: 0.5031 - val_loss: 0.6939 - val_accuracy: 0.5030\n",
      "Epoch 43/150\n",
      "313/313 [==============================] - 7s 24ms/step - loss: 0.6948 - accuracy: 0.4982 - val_loss: 0.6945 - val_accuracy: 0.5030\n",
      "Epoch 44/150\n",
      "313/313 [==============================] - 7s 23ms/step - loss: 0.6942 - accuracy: 0.5099 - val_loss: 0.6936 - val_accuracy: 0.4970\n",
      "Epoch 45/150\n",
      "313/313 [==============================] - 7s 23ms/step - loss: 0.6949 - accuracy: 0.4985 - val_loss: 0.6944 - val_accuracy: 0.5030\n",
      "Epoch 46/150\n",
      "313/313 [==============================] - 7s 23ms/step - loss: 0.6941 - accuracy: 0.5092 - val_loss: 0.6934 - val_accuracy: 0.4970\n",
      "Epoch 47/150\n",
      "313/313 [==============================] - 7s 23ms/step - loss: 0.6950 - accuracy: 0.4974 - val_loss: 0.6933 - val_accuracy: 0.5030\n",
      "Epoch 48/150\n",
      "313/313 [==============================] - 7s 23ms/step - loss: 0.6945 - accuracy: 0.5070 - val_loss: 0.6935 - val_accuracy: 0.4970\n",
      "Epoch 49/150\n",
      "313/313 [==============================] - 7s 24ms/step - loss: 0.6952 - accuracy: 0.4964 - val_loss: 0.6947 - val_accuracy: 0.4970\n",
      "Epoch 50/150\n",
      "313/313 [==============================] - 7s 22ms/step - loss: 0.6952 - accuracy: 0.4979 - val_loss: 0.6942 - val_accuracy: 0.4970\n",
      "Epoch 51/150\n",
      "313/313 [==============================] - 7s 22ms/step - loss: 0.6947 - accuracy: 0.5003 - val_loss: 0.6937 - val_accuracy: 0.4970\n",
      "Epoch 52/150\n",
      "313/313 [==============================] - 7s 23ms/step - loss: 0.6943 - accuracy: 0.5060 - val_loss: 0.6937 - val_accuracy: 0.4970\n",
      "Epoch 53/150\n",
      "313/313 [==============================] - 7s 23ms/step - loss: 0.6945 - accuracy: 0.5071 - val_loss: 0.6938 - val_accuracy: 0.4970\n",
      "Epoch 54/150\n",
      "313/313 [==============================] - 7s 22ms/step - loss: 0.6946 - accuracy: 0.5060 - val_loss: 0.6934 - val_accuracy: 0.4900\n",
      "Epoch 55/150\n",
      "313/313 [==============================] - 7s 23ms/step - loss: 0.6946 - accuracy: 0.5014 - val_loss: 0.6937 - val_accuracy: 0.4940\n",
      "Epoch 56/150\n",
      "313/313 [==============================] - 7s 23ms/step - loss: 0.6941 - accuracy: 0.5084 - val_loss: 0.6941 - val_accuracy: 0.4770\n",
      "Epoch 57/150\n",
      "313/313 [==============================] - 7s 22ms/step - loss: 0.6950 - accuracy: 0.5027 - val_loss: 0.6955 - val_accuracy: 0.4950\n",
      "Epoch 58/150\n",
      "313/313 [==============================] - 7s 23ms/step - loss: 0.6941 - accuracy: 0.5120 - val_loss: 0.6953 - val_accuracy: 0.5040\n",
      "Epoch 59/150\n",
      "313/313 [==============================] - 7s 22ms/step - loss: 0.6946 - accuracy: 0.5065 - val_loss: 0.6983 - val_accuracy: 0.4940\n",
      "Epoch 60/150\n",
      "313/313 [==============================] - 7s 23ms/step - loss: 0.6943 - accuracy: 0.5039 - val_loss: 0.6940 - val_accuracy: 0.4820\n",
      "Epoch 61/150\n",
      "313/313 [==============================] - 7s 23ms/step - loss: 0.6941 - accuracy: 0.5037 - val_loss: 0.6952 - val_accuracy: 0.4700\n",
      "Epoch 62/150\n",
      "313/313 [==============================] - 7s 24ms/step - loss: 0.6934 - accuracy: 0.5186 - val_loss: 0.6977 - val_accuracy: 0.4820\n",
      "Epoch 63/150\n",
      "313/313 [==============================] - 7s 23ms/step - loss: 0.6932 - accuracy: 0.5163 - val_loss: 0.6966 - val_accuracy: 0.4940\n",
      "Epoch 64/150\n",
      "313/313 [==============================] - 7s 23ms/step - loss: 0.6933 - accuracy: 0.5155 - val_loss: 0.6954 - val_accuracy: 0.4890\n",
      "Epoch 65/150\n",
      "313/313 [==============================] - 7s 23ms/step - loss: 0.6933 - accuracy: 0.5136 - val_loss: 0.6973 - val_accuracy: 0.4840\n",
      "Epoch 66/150\n",
      "313/313 [==============================] - 7s 23ms/step - loss: 0.6928 - accuracy: 0.5169 - val_loss: 0.6972 - val_accuracy: 0.4760\n",
      "Epoch 67/150\n",
      "313/313 [==============================] - 7s 24ms/step - loss: 0.6930 - accuracy: 0.5175 - val_loss: 0.6964 - val_accuracy: 0.4960\n",
      "Epoch 68/150\n",
      "313/313 [==============================] - 7s 23ms/step - loss: 0.6921 - accuracy: 0.5250 - val_loss: 0.6970 - val_accuracy: 0.4820\n",
      "Epoch 69/150\n",
      "313/313 [==============================] - 7s 24ms/step - loss: 0.6917 - accuracy: 0.5231 - val_loss: 0.6960 - val_accuracy: 0.4820\n",
      "Epoch 70/150\n",
      "313/313 [==============================] - 7s 22ms/step - loss: 0.6918 - accuracy: 0.5194 - val_loss: 0.6987 - val_accuracy: 0.4920\n",
      "Epoch 71/150\n",
      "313/313 [==============================] - 7s 23ms/step - loss: 0.6909 - accuracy: 0.5269 - val_loss: 0.6952 - val_accuracy: 0.5150\n",
      "Epoch 72/150\n",
      "313/313 [==============================] - 7s 22ms/step - loss: 0.6870 - accuracy: 0.5420 - val_loss: 0.6945 - val_accuracy: 0.5110\n",
      "Epoch 73/150\n",
      "313/313 [==============================] - 7s 23ms/step - loss: 0.6834 - accuracy: 0.5503 - val_loss: 0.6837 - val_accuracy: 0.5530\n",
      "Epoch 74/150\n",
      "313/313 [==============================] - 7s 23ms/step - loss: 0.6785 - accuracy: 0.5552 - val_loss: 0.6731 - val_accuracy: 0.5810\n",
      "Epoch 75/150\n",
      "313/313 [==============================] - 7s 23ms/step - loss: 0.6666 - accuracy: 0.5873 - val_loss: 0.6567 - val_accuracy: 0.6400\n",
      "Epoch 76/150\n",
      "313/313 [==============================] - 7s 23ms/step - loss: 0.6502 - accuracy: 0.6208 - val_loss: 0.6339 - val_accuracy: 0.6690\n",
      "Epoch 77/150\n",
      "313/313 [==============================] - 7s 22ms/step - loss: 0.6401 - accuracy: 0.6424 - val_loss: 0.6113 - val_accuracy: 0.6910\n",
      "Epoch 78/150\n",
      "313/313 [==============================] - 7s 23ms/step - loss: 0.6218 - accuracy: 0.6617 - val_loss: 0.5901 - val_accuracy: 0.6890\n",
      "Epoch 79/150\n",
      "313/313 [==============================] - 6s 20ms/step - loss: 0.6095 - accuracy: 0.6806 - val_loss: 0.5820 - val_accuracy: 0.7080\n",
      "Epoch 80/150\n",
      "313/313 [==============================] - 7s 24ms/step - loss: 0.5955 - accuracy: 0.6937 - val_loss: 0.5630 - val_accuracy: 0.7330\n",
      "Epoch 81/150\n",
      "313/313 [==============================] - 7s 22ms/step - loss: 0.5819 - accuracy: 0.7046 - val_loss: 0.5580 - val_accuracy: 0.7260\n",
      "Epoch 82/150\n",
      "313/313 [==============================] - 7s 21ms/step - loss: 0.5681 - accuracy: 0.7199 - val_loss: 0.5431 - val_accuracy: 0.7400\n",
      "Epoch 83/150\n",
      "313/313 [==============================] - 7s 23ms/step - loss: 0.5604 - accuracy: 0.7270 - val_loss: 0.5280 - val_accuracy: 0.7570\n",
      "Epoch 84/150\n",
      "313/313 [==============================] - 7s 23ms/step - loss: 0.5467 - accuracy: 0.7394 - val_loss: 0.5283 - val_accuracy: 0.7520\n",
      "Epoch 85/150\n",
      "313/313 [==============================] - 7s 23ms/step - loss: 0.5393 - accuracy: 0.7416 - val_loss: 0.5155 - val_accuracy: 0.7530\n",
      "Epoch 86/150\n",
      "313/313 [==============================] - 7s 24ms/step - loss: 0.5282 - accuracy: 0.7494 - val_loss: 0.5117 - val_accuracy: 0.7600\n",
      "Epoch 87/150\n",
      "313/313 [==============================] - 7s 23ms/step - loss: 0.5190 - accuracy: 0.7571 - val_loss: 0.5096 - val_accuracy: 0.7580\n",
      "Epoch 88/150\n",
      "313/313 [==============================] - 7s 23ms/step - loss: 0.5166 - accuracy: 0.7604 - val_loss: 0.5110 - val_accuracy: 0.7570\n",
      "Epoch 89/150\n",
      "313/313 [==============================] - 7s 23ms/step - loss: 0.5039 - accuracy: 0.7651 - val_loss: 0.5009 - val_accuracy: 0.7590\n",
      "Epoch 90/150\n",
      "313/313 [==============================] - 7s 22ms/step - loss: 0.4975 - accuracy: 0.7719 - val_loss: 0.4956 - val_accuracy: 0.7490\n",
      "Epoch 91/150\n",
      "313/313 [==============================] - 7s 24ms/step - loss: 0.4823 - accuracy: 0.7786 - val_loss: 0.4649 - val_accuracy: 0.7770\n",
      "Epoch 92/150\n",
      "313/313 [==============================] - 7s 23ms/step - loss: 0.4741 - accuracy: 0.7861 - val_loss: 0.4561 - val_accuracy: 0.8030\n",
      "Epoch 93/150\n",
      "313/313 [==============================] - 7s 23ms/step - loss: 0.4636 - accuracy: 0.7908 - val_loss: 0.4569 - val_accuracy: 0.8000\n",
      "Epoch 94/150\n",
      "313/313 [==============================] - 7s 23ms/step - loss: 0.4528 - accuracy: 0.7969 - val_loss: 0.4725 - val_accuracy: 0.7770\n",
      "Epoch 95/150\n",
      "313/313 [==============================] - 7s 23ms/step - loss: 0.4410 - accuracy: 0.8017 - val_loss: 0.4462 - val_accuracy: 0.8060\n",
      "Epoch 96/150\n",
      "313/313 [==============================] - 7s 22ms/step - loss: 0.4384 - accuracy: 0.8064 - val_loss: 0.4249 - val_accuracy: 0.8070\n",
      "Epoch 97/150\n",
      "313/313 [==============================] - 7s 23ms/step - loss: 0.4306 - accuracy: 0.8100 - val_loss: 0.4265 - val_accuracy: 0.8040\n",
      "Epoch 98/150\n",
      "313/313 [==============================] - 7s 22ms/step - loss: 0.4211 - accuracy: 0.8196 - val_loss: 0.4352 - val_accuracy: 0.7920\n",
      "Epoch 99/150\n",
      "313/313 [==============================] - 7s 23ms/step - loss: 0.4151 - accuracy: 0.8186 - val_loss: 0.4207 - val_accuracy: 0.8020\n",
      "Epoch 100/150\n",
      "313/313 [==============================] - 7s 22ms/step - loss: 0.4066 - accuracy: 0.8233 - val_loss: 0.4878 - val_accuracy: 0.7700\n",
      "Epoch 101/150\n",
      "313/313 [==============================] - 7s 23ms/step - loss: 0.4061 - accuracy: 0.8206 - val_loss: 0.4176 - val_accuracy: 0.8160\n",
      "Epoch 102/150\n",
      "313/313 [==============================] - 7s 23ms/step - loss: 0.4016 - accuracy: 0.8241 - val_loss: 0.4054 - val_accuracy: 0.8150\n",
      "Epoch 103/150\n",
      "313/313 [==============================] - 7s 23ms/step - loss: 0.3953 - accuracy: 0.8257 - val_loss: 0.4055 - val_accuracy: 0.8140\n",
      "Epoch 104/150\n",
      "313/313 [==============================] - 8s 24ms/step - loss: 0.3920 - accuracy: 0.8305 - val_loss: 0.4247 - val_accuracy: 0.7920\n",
      "Epoch 105/150\n",
      "313/313 [==============================] - 7s 22ms/step - loss: 0.3922 - accuracy: 0.8286 - val_loss: 0.4277 - val_accuracy: 0.7980\n",
      "Epoch 106/150\n",
      "313/313 [==============================] - 7s 24ms/step - loss: 0.3789 - accuracy: 0.8369 - val_loss: 0.4121 - val_accuracy: 0.8040\n",
      "Epoch 107/150\n",
      "313/313 [==============================] - 7s 22ms/step - loss: 0.3775 - accuracy: 0.8335 - val_loss: 0.4279 - val_accuracy: 0.7940\n",
      "Epoch 108/150\n",
      "313/313 [==============================] - 7s 23ms/step - loss: 0.3756 - accuracy: 0.8382 - val_loss: 0.3994 - val_accuracy: 0.8190\n",
      "Epoch 109/150\n",
      "313/313 [==============================] - 7s 22ms/step - loss: 0.3744 - accuracy: 0.8371 - val_loss: 0.4101 - val_accuracy: 0.8190\n",
      "Epoch 110/150\n",
      "313/313 [==============================] - 7s 23ms/step - loss: 0.3714 - accuracy: 0.8398 - val_loss: 0.4039 - val_accuracy: 0.8130\n",
      "Epoch 111/150\n",
      "313/313 [==============================] - 7s 22ms/step - loss: 0.3645 - accuracy: 0.8396 - val_loss: 0.4082 - val_accuracy: 0.8090\n",
      "Epoch 112/150\n",
      "313/313 [==============================] - 7s 23ms/step - loss: 0.3602 - accuracy: 0.8420 - val_loss: 0.3887 - val_accuracy: 0.8250\n",
      "Epoch 113/150\n",
      "313/313 [==============================] - 7s 22ms/step - loss: 0.3560 - accuracy: 0.8428 - val_loss: 0.4052 - val_accuracy: 0.8230\n",
      "Epoch 114/150\n",
      "313/313 [==============================] - 7s 23ms/step - loss: 0.3518 - accuracy: 0.8444 - val_loss: 0.3948 - val_accuracy: 0.8270\n",
      "Epoch 115/150\n",
      "313/313 [==============================] - 7s 23ms/step - loss: 0.3513 - accuracy: 0.8472 - val_loss: 0.3840 - val_accuracy: 0.8270\n",
      "Epoch 116/150\n",
      "313/313 [==============================] - 7s 23ms/step - loss: 0.3522 - accuracy: 0.8476 - val_loss: 0.4016 - val_accuracy: 0.8150\n",
      "Epoch 117/150\n",
      "313/313 [==============================] - 7s 22ms/step - loss: 0.3388 - accuracy: 0.8517 - val_loss: 0.4164 - val_accuracy: 0.8090\n",
      "Epoch 118/150\n",
      "313/313 [==============================] - 7s 22ms/step - loss: 0.3402 - accuracy: 0.8536 - val_loss: 0.3857 - val_accuracy: 0.8270\n",
      "Epoch 119/150\n",
      "313/313 [==============================] - 7s 23ms/step - loss: 0.3414 - accuracy: 0.8503 - val_loss: 0.3875 - val_accuracy: 0.8270\n",
      "Epoch 120/150\n",
      "313/313 [==============================] - 7s 22ms/step - loss: 0.3366 - accuracy: 0.8584 - val_loss: 0.3962 - val_accuracy: 0.8200\n",
      "Epoch 121/150\n",
      "313/313 [==============================] - 7s 23ms/step - loss: 0.3313 - accuracy: 0.8579 - val_loss: 0.3809 - val_accuracy: 0.8360\n",
      "Epoch 122/150\n",
      "313/313 [==============================] - 7s 23ms/step - loss: 0.3376 - accuracy: 0.8568 - val_loss: 0.3985 - val_accuracy: 0.8290\n",
      "Epoch 123/150\n",
      "313/313 [==============================] - 7s 23ms/step - loss: 0.3238 - accuracy: 0.8609 - val_loss: 0.3886 - val_accuracy: 0.8300\n",
      "Epoch 124/150\n",
      "313/313 [==============================] - 7s 22ms/step - loss: 0.3300 - accuracy: 0.8587 - val_loss: 0.3624 - val_accuracy: 0.8370\n",
      "Epoch 125/150\n",
      "313/313 [==============================] - 7s 21ms/step - loss: 0.3219 - accuracy: 0.8604 - val_loss: 0.3983 - val_accuracy: 0.8260\n",
      "Epoch 126/150\n",
      "313/313 [==============================] - 7s 22ms/step - loss: 0.3251 - accuracy: 0.8608 - val_loss: 0.3904 - val_accuracy: 0.8340\n",
      "Epoch 127/150\n",
      "313/313 [==============================] - 7s 23ms/step - loss: 0.3195 - accuracy: 0.8627 - val_loss: 0.3763 - val_accuracy: 0.8330\n",
      "Epoch 128/150\n",
      "313/313 [==============================] - 7s 22ms/step - loss: 0.3273 - accuracy: 0.8621 - val_loss: 0.3693 - val_accuracy: 0.8440\n",
      "Epoch 129/150\n",
      "313/313 [==============================] - 7s 23ms/step - loss: 0.3191 - accuracy: 0.8662 - val_loss: 0.3631 - val_accuracy: 0.8430\n",
      "Epoch 130/150\n",
      "313/313 [==============================] - 7s 22ms/step - loss: 0.3185 - accuracy: 0.8603 - val_loss: 0.3711 - val_accuracy: 0.8360\n",
      "Epoch 131/150\n",
      "313/313 [==============================] - 7s 23ms/step - loss: 0.3125 - accuracy: 0.8683 - val_loss: 0.3691 - val_accuracy: 0.8400\n",
      "Epoch 132/150\n",
      "313/313 [==============================] - 7s 22ms/step - loss: 0.3141 - accuracy: 0.8641 - val_loss: 0.3956 - val_accuracy: 0.8300\n",
      "Epoch 133/150\n",
      "313/313 [==============================] - 7s 22ms/step - loss: 0.3110 - accuracy: 0.8672 - val_loss: 0.3784 - val_accuracy: 0.8400\n",
      "Epoch 134/150\n",
      "313/313 [==============================] - 7s 22ms/step - loss: 0.3129 - accuracy: 0.8659 - val_loss: 0.3702 - val_accuracy: 0.8400\n",
      "Epoch 135/150\n",
      "313/313 [==============================] - 7s 23ms/step - loss: 0.3135 - accuracy: 0.8659 - val_loss: 0.3941 - val_accuracy: 0.8350\n",
      "Epoch 136/150\n",
      "313/313 [==============================] - 7s 22ms/step - loss: 0.3066 - accuracy: 0.8699 - val_loss: 0.3711 - val_accuracy: 0.8330\n",
      "Epoch 137/150\n",
      "313/313 [==============================] - 7s 22ms/step - loss: 0.3038 - accuracy: 0.8706 - val_loss: 0.3754 - val_accuracy: 0.8400\n",
      "Epoch 138/150\n",
      "313/313 [==============================] - 7s 22ms/step - loss: 0.3033 - accuracy: 0.8743 - val_loss: 0.3836 - val_accuracy: 0.8350\n",
      "Epoch 139/150\n",
      "313/313 [==============================] - 7s 22ms/step - loss: 0.3015 - accuracy: 0.8711 - val_loss: 0.3740 - val_accuracy: 0.8340\n",
      "Epoch 140/150\n",
      "313/313 [==============================] - 7s 23ms/step - loss: 0.2995 - accuracy: 0.8685 - val_loss: 0.3932 - val_accuracy: 0.8380\n",
      "Epoch 141/150\n",
      "313/313 [==============================] - 7s 22ms/step - loss: 0.3021 - accuracy: 0.8674 - val_loss: 0.3760 - val_accuracy: 0.8300\n",
      "Epoch 142/150\n",
      "313/313 [==============================] - 7s 23ms/step - loss: 0.2985 - accuracy: 0.8735 - val_loss: 0.3830 - val_accuracy: 0.8320\n",
      "Epoch 143/150\n",
      "313/313 [==============================] - 7s 22ms/step - loss: 0.3026 - accuracy: 0.8704 - val_loss: 0.3751 - val_accuracy: 0.8410\n",
      "Epoch 144/150\n",
      "313/313 [==============================] - 7s 22ms/step - loss: 0.2969 - accuracy: 0.8743 - val_loss: 0.3925 - val_accuracy: 0.8320\n",
      "Epoch 145/150\n",
      "313/313 [==============================] - 7s 22ms/step - loss: 0.2997 - accuracy: 0.8687 - val_loss: 0.3879 - val_accuracy: 0.8360\n",
      "Epoch 146/150\n",
      "313/313 [==============================] - 7s 22ms/step - loss: 0.2946 - accuracy: 0.8754 - val_loss: 0.3926 - val_accuracy: 0.8310\n",
      "Epoch 147/150\n",
      "313/313 [==============================] - 7s 22ms/step - loss: 0.2969 - accuracy: 0.8701 - val_loss: 0.3808 - val_accuracy: 0.8340\n",
      "Epoch 148/150\n",
      "313/313 [==============================] - 7s 23ms/step - loss: 0.2934 - accuracy: 0.8746 - val_loss: 0.4010 - val_accuracy: 0.8190\n",
      "Epoch 149/150\n",
      "313/313 [==============================] - 7s 22ms/step - loss: 0.2919 - accuracy: 0.8763 - val_loss: 0.3814 - val_accuracy: 0.8360\n",
      "Epoch 150/150\n",
      "313/313 [==============================] - 7s 22ms/step - loss: 0.2888 - accuracy: 0.8776 - val_loss: 0.3862 - val_accuracy: 0.8390\n"
     ]
    }
   ],
   "source": [
    "history = model.fit([train_input, train_query], train_answer, batch_size=32, epochs=150,validation_data=([test_input, test_query], test_answer))"
   ]
  },
  {
   "cell_type": "code",
   "execution_count": 24,
   "id": "4631b5e6-785e-43dc-945e-00a3e33f2822",
   "metadata": {
    "tags": []
   },
   "outputs": [],
   "source": [
    "filename = 'chatbot_using_rnn.keras'\n",
    "model.save(filename)"
   ]
  }
 ],
 "metadata": {
  "kernelspec": {
   "display_name": "Python 3 (ipykernel)",
   "language": "python",
   "name": "python3"
  },
  "language_info": {
   "codemirror_mode": {
    "name": "ipython",
    "version": 3
   },
   "file_extension": ".py",
   "mimetype": "text/x-python",
   "name": "python",
   "nbconvert_exporter": "python",
   "pygments_lexer": "ipython3",
   "version": "3.11.0"
  }
 },
 "nbformat": 4,
 "nbformat_minor": 5
}
